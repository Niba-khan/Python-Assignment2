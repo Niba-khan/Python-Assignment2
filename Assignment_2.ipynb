{
  "nbformat": 4,
  "nbformat_minor": 0,
  "metadata": {
    "colab": {
      "provenance": [],
      "authorship_tag": "ABX9TyPCw9GO3VlcTSR2owLlVMui",
      "include_colab_link": true
    },
    "kernelspec": {
      "name": "python3",
      "display_name": "Python 3"
    },
    "language_info": {
      "name": "python"
    }
  },
  "cells": [
    {
      "cell_type": "markdown",
      "metadata": {
        "id": "view-in-github",
        "colab_type": "text"
      },
      "source": [
        "<a href=\"https://colab.research.google.com/github/Niba-khan/Python-Assignment2/blob/main/Assignment_2.ipynb\" target=\"_parent\"><img src=\"https://colab.research.google.com/assets/colab-badge.svg\" alt=\"Open In Colab\"/></a>"
      ]
    },
    {
      "cell_type": "markdown",
      "source": [
        "# **Assignment 2**\n",
        "\n",
        "**Simple Calculator*\n"
      ],
      "metadata": {
        "id": "Po_Q_KJ0J10H"
      }
    },
    {
      "cell_type": "code",
      "source": [
        "Num_1 = int(input(\"Enter your first number: \"))\n",
        "Num_2 =int(input(\"Enter your Second number: \"))\n",
        "Calculator_operators = input(\"Enter an Operators (+, -, *, /, //, **, %): \")\n",
        "\n",
        "if Calculator_operators == '+':\n",
        "  print(\"Your Result is:\", Num_1 + Num_2)\n",
        "elif Calculator_operators == '-':\n",
        "  print(\"Your Result is:\", Num_1 - Num_2)\n",
        "elif Calculator_operators == '*':\n",
        "  print(\"Your Result is:\", Num_1 * Num_2)\n",
        "elif Calculator_operators == '/':\n",
        "  print(\"Your Result is:\", Num_1 / Num_2)\n",
        "elif Calculator_operators == '//':\n",
        "  print(\"Your Result is:\", Num_1 // Num_2)\n",
        "elif Calculator_operators == '**':\n",
        "  print(\"Your Result is:\", Num_1 ** Num_2)\n",
        "elif Calculator_operators == '%':\n",
        "  print(\"Your Result is:\", Num_1 % Num_2)\n",
        "else:\n",
        " print(\"Invalid Operator! Please Enter correct Operator\")\n",
        "\n",
        "\n"
      ],
      "metadata": {
        "colab": {
          "base_uri": "https://localhost:8080/"
        },
        "id": "Lo_LzPkIKcFP",
        "outputId": "e1a83576-a2d4-4b89-c780-463026d43cb0"
      },
      "execution_count": null,
      "outputs": [
        {
          "output_type": "stream",
          "name": "stdout",
          "text": [
            "Enter your first number: 9\n",
            "Enter your Second number: 89\n",
            "Enter an Operators (+, -, *, /, //, **, %): +\n",
            "Your Result is: 98\n"
          ]
        }
      ]
    },
    {
      "cell_type": "markdown",
      "source": [
        "**Grading System*"
      ],
      "metadata": {
        "id": "Q759dUs9gqgX"
      }
    },
    {
      "cell_type": "code",
      "source": [
        "marks = int(input(\"Enter your Marks (0-100): \"))\n",
        "\n",
        "if marks >= 90:\n",
        "    grade = \"A+\"\n",
        "    performance = \"Outstanding performance! Keep up the excellent work!\"\n",
        "elif marks >= 80:\n",
        "    grade = \"A\"\n",
        "    performance = \"Great job! Your hard work is paying off\"\n",
        "elif marks >= 70:\n",
        "    grade = \"B\"\n",
        "    performance = \"Good effort! You're on the right track.\"\n",
        "elif marks >= 60:\n",
        "    grade = \"C\"\n",
        "    performance = \"Fair performance. A little more effort will take you to the next level!\"\n",
        "elif marks >= 50:\n",
        "    grade = \"D\"\n",
        "    performance = \"You passed, but there's a lot of room for improvement.\"\n",
        "else:\n",
        "    grade = \"Fail\"\n",
        "    performance = \"Don't be discouraged! Failure is a step toward success..\"\n",
        "\n",
        "print(grade)\n",
        "print(performance)"
      ],
      "metadata": {
        "colab": {
          "base_uri": "https://localhost:8080/"
        },
        "id": "3t6LKGy2gwkT",
        "outputId": "cb232eda-7e1e-40ff-f4c7-6ead9f9ea943"
      },
      "execution_count": null,
      "outputs": [
        {
          "output_type": "stream",
          "name": "stdout",
          "text": [
            "Enter your Marks (0-100): 93\n",
            "A+\n",
            "Outstanding performance! Keep up the excellent work!\n"
          ]
        }
      ]
    }
  ]
}